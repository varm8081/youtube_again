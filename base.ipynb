{
 "cells": [
  {
   "cell_type": "markdown",
   "id": "b5b92822",
   "metadata": {},
   "source": [
    "#  Libraries"
   ]
  },
  {
   "cell_type": "code",
   "execution_count": 1,
   "id": "b70a9b83",
   "metadata": {},
   "outputs": [],
   "source": [
    "import pandas as pd\n",
    "from sklearn.model_selection import train_test_split, GridSearchCV, cross_val_score\n",
    "from sklearn.pipeline import Pipeline\n",
    "from sklearn.impute import SimpleImputer\n",
    "from sklearn.preprocessing import StandardScaler\n",
    "from sklearn.tree import DecisionTreeClassifier\n",
    "from sklearn.metrics import accuracy_score, f1_score, classification_report"
   ]
  },
  {
   "cell_type": "markdown",
   "id": "39bef6c7",
   "metadata": {},
   "source": [
    "# Settings"
   ]
  },
  {
   "cell_type": "code",
   "execution_count": 7,
   "id": "0f218042",
   "metadata": {},
   "outputs": [],
   "source": [
    "\n",
    "config = {\n",
    "    \"target_column\": \"Profit_Class\",\n",
    "    \"drop_columns\" : [\"Profit_Class\", \"CompanyYear\", \"Net Profit\"],\n",
    "    \"file_path\": \"my_version.csv\",\n",
    "    \"test_size\": 0.2,\n",
    "    \"random_state\": 42,\n",
    "}\n",
    "# every thing is changble\n",
    "param_grid = {\n",
    "            \"classifier__random_state\": [10, 20, 40],\n",
    "            \"classifier__min_samples_split\": [2, 4, 5],\n",
    "            \"classifier__max_depth\": [3, 5, 10]\n",
    "            }\n",
    "df = pd.read_csv(config[\"file_path\"])\n"
   ]
  },
  {
   "cell_type": "markdown",
   "id": "72da2e42",
   "metadata": {},
   "source": [
    "# Functions"
   ]
  },
  {
   "cell_type": "code",
   "execution_count": 27,
   "id": "b8dc4ba0",
   "metadata": {},
   "outputs": [],
   "source": [
    "def preapare_data(config):\n",
    "        df[config[\"target_column\"]] = df[\"Net Profit\"].apply(\n",
    "        lambda x: \"High\" if x > df[\"Net Profit\"].median() else \"Low\"\n",
    "    )\n",
    "        x = df.drop(columns=config[\"drop_columns\"])\n",
    "        y = df[config[\"target_column\"]]\n",
    "        return train_test_split(x, y, test_size=config[\"test_size\"], random_state=config[\"random_state\"])\n"
   ]
  },
  {
   "cell_type": "code",
   "execution_count": 20,
   "id": "e4e64533",
   "metadata": {},
   "outputs": [],
   "source": [
    "def build_pipeline():\n",
    "    return Pipeline([\n",
    "        (\"imputer\", SimpleImputer(strategy=\"mean\")),\n",
    "        (\"scaler\", StandardScaler()),\n",
    "        (\"classifier\", DecisionTreeClassifier())\n",
    "    ])"
   ]
  },
  {
   "cell_type": "code",
   "execution_count": 22,
   "id": "1987e3d4",
   "metadata": {},
   "outputs": [],
   "source": [
    "def tune_model(pipeline, param_grid, X_train, y_train):\n",
    "    grid = GridSearchCV(pipeline, param_grid, cv=5, scoring=\"f1_weighted\")\n",
    "    grid.fit(X_train, y_train)\n",
    "    return grid.best_estimator_, grid.best_params_, grid.best_score_\n"
   ]
  },
  {
   "cell_type": "code",
   "execution_count": 21,
   "id": "fbf2de39",
   "metadata": {},
   "outputs": [],
   "source": [
    "def evaluate_model(model, X_test, y_test):\n",
    "    preds = model.predict(X_test)\n",
    "    print(\"F1 Score:\", f1_score(y_test, preds, average=\"weighted\"))\n",
    "    print(\"Accuracy:\", accuracy_score(y_test, preds))\n",
    "    print(\"\\nClassification Report:\\n\", classification_report(y_test, preds))"
   ]
  },
  {
   "cell_type": "markdown",
   "id": "6e8bddc4",
   "metadata": {},
   "source": [
    "# 🚀 Main Execution"
   ]
  },
  {
   "cell_type": "code",
   "execution_count": 30,
   "id": "13ea184f",
   "metadata": {},
   "outputs": [
    {
     "name": "stdout",
     "output_type": "stream",
     "text": [
      "Best Params: {'classifier__max_depth': 3, 'classifier__min_samples_split': 2, 'classifier__random_state': 40}\n",
      "Best CV F1: 0.899739296106338\n",
      "F1 Score: 0.9473684210526315\n",
      "Accuracy: 0.9473684210526315\n",
      "\n",
      "Classification Report:\n",
      "               precision    recall  f1-score   support\n",
      "\n",
      "        High       0.94      0.94      0.94        18\n",
      "         Low       0.95      0.95      0.95        20\n",
      "\n",
      "    accuracy                           0.95        38\n",
      "   macro avg       0.95      0.95      0.95        38\n",
      "weighted avg       0.95      0.95      0.95        38\n",
      "\n"
     ]
    }
   ],
   "source": [
    "if __name__ == \"__main__\":\n",
    "    # Load data\n",
    "    X_train, X_test, y_train, y_test = preapare_data(config)\n",
    "\n",
    "    # Build pipeline\n",
    "    pipeline = build_pipeline()\n",
    "\n",
    "    # Tune model\n",
    "    best_model, best_params, best_cv_score = tune_model(pipeline, param_grid, X_train, y_train)\n",
    "    print(\"Best Params:\", best_params)\n",
    "    print(\"Best CV F1:\", best_cv_score)\n",
    "\n",
    "    # Evaluate\n",
    "    evaluate_model(best_model, X_test, y_test)"
   ]
  },
  {
   "cell_type": "code",
   "execution_count": null,
   "id": "c8a0f5cf",
   "metadata": {},
   "outputs": [],
   "source": []
  }
 ],
 "metadata": {
  "kernelspec": {
   "display_name": "myenv",
   "language": "python",
   "name": "myenv"
  },
  "language_info": {
   "codemirror_mode": {
    "name": "ipython",
    "version": 3
   },
   "file_extension": ".py",
   "mimetype": "text/x-python",
   "name": "python",
   "nbconvert_exporter": "python",
   "pygments_lexer": "ipython3",
   "version": "3.11.9"
  }
 },
 "nbformat": 4,
 "nbformat_minor": 5
}
